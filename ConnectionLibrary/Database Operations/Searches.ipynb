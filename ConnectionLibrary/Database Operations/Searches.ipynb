{
    "metadata": {
        "kernelspec": {
            "name": "SQL",
            "display_name": "SQL",
            "language": "sql"
        },
        "language_info": {
            "name": "sql",
            "version": ""
        }
    },
    "nbformat_minor": 2,
    "nbformat": 4,
    "cells": [
        {
            "cell_type": "markdown",
            "source": [
                "## Basic Searches"
            ],
            "metadata": {
                "azdata_cell_guid": "e093abd1-715c-4a19-afaf-2401c04a4a83"
            },
            "attachments": {}
        },
        {
            "cell_type": "markdown",
            "source": [
                "---\r\n",
                "\r\n",
                "### Machine"
            ],
            "metadata": {
                "azdata_cell_guid": "a86dc157-807c-4176-aa46-3f8b8c24ea39"
            },
            "attachments": {}
        },
        {
            "cell_type": "markdown",
            "source": [
                "#### Basic Search"
            ],
            "metadata": {
                "azdata_cell_guid": "4fe59964-ef8e-47da-b67d-a87a540ad2ec"
            },
            "attachments": {}
        },
        {
            "cell_type": "code",
            "source": [
                "SELECT * FROM Machine"
            ],
            "metadata": {
                "azdata_cell_guid": "41fbd9cc-2e2e-4b3b-bf74-0df4705b62d5",
                "language": "sql",
                "tags": []
            },
            "outputs": [],
            "execution_count": null
        },
        {
            "cell_type": "markdown",
            "source": [
                "#### Filter only `Enabled` Machines, and number of `Enabled` Machines"
            ],
            "metadata": {
                "language": "sql",
                "azdata_cell_guid": "1d59d1c9-67d0-4e82-885f-c67c63e62bbd"
            },
            "attachments": {}
        },
        {
            "cell_type": "code",
            "source": [
                "SELECT * FROM Machine WHERE IsEnabled = 1\r\n",
                "SELECT COUNT(*) AS [Quantidade] FROM Machine WHERE IsEnabled = 1"
            ],
            "metadata": {
                "language": "sql",
                "azdata_cell_guid": "867a24b5-3127-4a50-854e-5f6956dbd4e9",
                "tags": []
            },
            "outputs": [],
            "execution_count": null
        },
        {
            "cell_type": "markdown",
            "source": [
                "#### Filter only `Deleted` Machines, and number of `Deleted` Machines"
            ],
            "metadata": {
                "language": "sql",
                "azdata_cell_guid": "8ad619a3-2310-472e-b090-b2e36e00269a"
            },
            "attachments": {}
        },
        {
            "cell_type": "code",
            "source": [
                "SELECT * FROM Machine WHERE Deleted = 1\r\n",
                "SELECT COUNT(*) AS [Quantidade] FROM Machine WHERE Deleted = 1"
            ],
            "metadata": {
                "language": "sql",
                "azdata_cell_guid": "5c071ab1-b2d5-4404-95c7-f018f60eb6c7"
            },
            "outputs": [],
            "execution_count": null
        },
        {
            "cell_type": "markdown",
            "source": [
                "#### Filter Machines without `Indicators`, and number of Machines without `Indicators`"
            ],
            "metadata": {
                "language": "sql",
                "azdata_cell_guid": "c25d18d6-90ae-4107-bfb1-c34809631959"
            },
            "attachments": {}
        },
        {
            "cell_type": "code",
            "source": [
                "SELECT * FROM Machine WHERE MachineIndicators IS NULL\r\n",
                "SELECT COUNT(*) AS [Quantidade] FROM Machine WHERE MachineIndicators IS NULL"
            ],
            "metadata": {
                "language": "sql",
                "azdata_cell_guid": "ee12fb61-2140-4e83-9025-219cd681d385",
                "tags": []
            },
            "outputs": [],
            "execution_count": null
        },
        {
            "cell_type": "markdown",
            "source": [
                "---\r\n",
                "\r\n",
                "### Machine Indicators"
            ],
            "metadata": {
                "language": "sql",
                "azdata_cell_guid": "eae7b136-8265-4362-9d5a-3dda7b15db33"
            },
            "attachments": {}
        },
        {
            "cell_type": "markdown",
            "source": [
                "#### Basic Search"
            ],
            "metadata": {
                "language": "sql",
                "azdata_cell_guid": "02a1a602-2683-4331-92be-b5ae511ba5a4"
            },
            "attachments": {}
        },
        {
            "cell_type": "code",
            "source": [
                "SELECT * FROM MachineIndicator"
            ],
            "metadata": {
                "language": "sql",
                "azdata_cell_guid": "8da3d611-6efb-4fff-87c4-f1a00f98ed52"
            },
            "outputs": [],
            "execution_count": null
        },
        {
            "cell_type": "markdown",
            "source": [
                "#### Filter only `Enabled` Machines Indicators, and number of `Enabled` Machines Indicators"
            ],
            "metadata": {
                "language": "sql",
                "azdata_cell_guid": "392e97cc-f05b-4fea-80aa-a7b73c469bdf"
            },
            "attachments": {}
        },
        {
            "cell_type": "code",
            "source": [
                "SELECT * FROM MachineIndicator WHERE IsEnabled = 1\r\n",
                "SELECT COUNT(*) AS [Quantidade] FROM MachineIndicator WHERE IsEnabled = 1"
            ],
            "metadata": {
                "language": "sql",
                "azdata_cell_guid": "1828850c-38ed-4d7c-a912-d4f8fe8b62ec"
            },
            "outputs": [],
            "execution_count": null
        },
        {
            "cell_type": "markdown",
            "source": [
                "#### Filter only `Deleted` Machines Indicators, and number of `Deleted` Machines Indicators"
            ],
            "metadata": {
                "language": "sql",
                "azdata_cell_guid": "9ed96233-728b-4722-b639-36d1c7952e95"
            },
            "attachments": {}
        },
        {
            "cell_type": "code",
            "source": [
                "SELECT * FROM MachineIndicator WHERE Deleted = 1\r\n",
                "SELECT COUNT(*) AS [Quantidade] FROM MachineIndicator WHERE Deleted = 1"
            ],
            "metadata": {
                "language": "sql",
                "azdata_cell_guid": "1fb04a69-c4b8-4b24-b133-d2b7b24be2b7",
                "tags": []
            },
            "outputs": [],
            "execution_count": null
        },
        {
            "cell_type": "markdown",
            "source": [
                "#### Filter Machine Indicator without `Type`, and number of Machine Indicator without `Type`"
            ],
            "metadata": {
                "language": "sql",
                "azdata_cell_guid": "16864c94-d89e-4071-a37c-fc7e71c4aa8e"
            },
            "attachments": {}
        },
        {
            "cell_type": "code",
            "source": [
                "SELECT * FROM MachineIndicator WHERE [Type] IS NULL\r\n",
                "SELECT COUNT(*) AS [Quantidade] FROM MachineIndicator WHERE [Type] IS NULL"
            ],
            "metadata": {
                "language": "sql",
                "azdata_cell_guid": "5fd20a88-853c-4a68-bc02-536e6bc7a22a"
            },
            "outputs": [],
            "execution_count": null
        },
        {
            "cell_type": "markdown",
            "source": [
                "---\r\n",
                "\r\n",
                "### Machine Indicators Values"
            ],
            "metadata": {
                "language": "sql",
                "azdata_cell_guid": "9e557699-1834-4f0a-a052-1c670ce4f770"
            },
            "attachments": {}
        },
        {
            "cell_type": "markdown",
            "source": [
                "Basic Search"
            ],
            "metadata": {
                "language": "sql",
                "azdata_cell_guid": "b9cace96-9e6c-476e-aea2-024a428ad118"
            },
            "attachments": {}
        },
        {
            "cell_type": "code",
            "source": [
                "SELECT * FROM MachineIndicatorValues"
            ],
            "metadata": {
                "language": "sql",
                "azdata_cell_guid": "f0c46699-3814-4da2-abaf-edf21a102a77"
            },
            "outputs": [],
            "execution_count": null
        },
        {
            "cell_type": "markdown",
            "source": [
                "#### Filter by specific `Machine`"
            ],
            "metadata": {
                "language": "sql",
                "azdata_cell_guid": "82c0a2ce-2dd5-48e0-a947-829afc16305b"
            },
            "attachments": {}
        },
        {
            "cell_type": "code",
            "source": [
                "DECLARE @MACHINEID INT = 0\r\n",
                "SELECT * FROM MachineIndicatorValues WHERE MachineId = @MACHINEID"
            ],
            "metadata": {
                "language": "sql",
                "azdata_cell_guid": "be07ec7c-aaa8-4530-940c-c7c00f774a02"
            },
            "outputs": [],
            "execution_count": null
        },
        {
            "cell_type": "markdown",
            "source": [
                "#### Filter by specific `Machine Indicator`"
            ],
            "metadata": {
                "language": "sql",
                "azdata_cell_guid": "1eb491f6-e425-409d-bfcd-a225004472ff"
            },
            "attachments": {}
        },
        {
            "cell_type": "code",
            "source": [
                "DECLARE @MACHINEINDICATORIF INT = 0\r\n",
                "SELECT * FROM MachineIndicatorValues WHERE MachineIndicatorId = @MACHINEINDICATORIF"
            ],
            "metadata": {
                "language": "sql",
                "azdata_cell_guid": "5616b36b-9ab4-498b-92eb-23c54098527f"
            },
            "outputs": [],
            "execution_count": null
        },
        {
            "cell_type": "markdown",
            "source": [
                "#### Filter only `Enabled` Machines Indicator Values, and number of `Enabled` Machines Indicator Values"
            ],
            "metadata": {
                "language": "sql",
                "azdata_cell_guid": "a7b59ff1-765c-465f-9648-ec128b8b6e24"
            },
            "attachments": {}
        },
        {
            "cell_type": "code",
            "source": [
                "SELECT * FROM MachineIndicatorValues WHERE IsEnabled = 1\r\n",
                "SELECT COUNT(*) AS [Quantidade] FROM MachineIndicatorValues WHERE IsEnabled = 1"
            ],
            "metadata": {
                "language": "sql",
                "azdata_cell_guid": "9730e3ca-80f1-49ed-94bf-a3b692acf704",
                "tags": []
            },
            "outputs": [],
            "execution_count": null
        },
        {
            "cell_type": "markdown",
            "source": [
                "#### Filter only `Deleted` Machines Indicator Values, and number of `Deleted` Machines Indicator Values"
            ],
            "metadata": {
                "language": "sql",
                "azdata_cell_guid": "d5aebc2b-c56b-4fdd-b3ac-0217b04f11bc"
            },
            "attachments": {}
        },
        {
            "cell_type": "code",
            "source": [
                "SELECT * FROM MachineIndicatorValues WHERE Deleted = 1\r\n",
                "SELECT COUNT(*) AS [Quantidade] FROM MachineIndicatorValues WHERE Deleted = 1"
            ],
            "metadata": {
                "language": "sql",
                "azdata_cell_guid": "96cfd845-4439-4b59-9e4d-152a401b32f2"
            },
            "outputs": [],
            "execution_count": null
        },
        {
            "cell_type": "markdown",
            "source": [
                "#### Filter only between `Dates`"
            ],
            "metadata": {
                "language": "sql",
                "azdata_cell_guid": "5d79c29a-7f45-484a-bc5f-61057fcd4482"
            },
            "attachments": {}
        },
        {
            "cell_type": "code",
            "source": [
                "DECLARE @INICIO DATE = '2024-11-03'\r\n",
                "DECLARE @FIM DATE = '2024-11-06'\r\n",
                "\r\n",
                "SELECT * FROM MachineIndicatorValues WHERE [Date] BETWEEN @INICIO AND DATEADD(DAY, 1, @FIM) ORDER BY [Date] ASC"
            ],
            "metadata": {
                "language": "sql",
                "azdata_cell_guid": "f8428eb6-71c6-4b5a-a17b-a0ac6eb47aac",
                "tags": []
            },
            "outputs": [],
            "execution_count": null
        },
        {
            "cell_type": "markdown",
            "source": [
                "#### Filter only between `Values`"
            ],
            "metadata": {
                "language": "sql",
                "azdata_cell_guid": "8cc7bd06-5cf6-493f-8f99-b511402ddb02"
            },
            "attachments": {}
        },
        {
            "cell_type": "code",
            "source": [
                "DECLARE @INICIO INT = 0\r\n",
                "DECLARE @FIM INT = 50\r\n",
                "\r\n",
                "SELECT * FROM MachineIndicatorValues WHERE [Value] BETWEEN @INICIO AND @FIM ORDER BY [Value] ASC"
            ],
            "metadata": {
                "language": "sql",
                "azdata_cell_guid": "950757bc-862c-4e51-a419-56df7bbf3479"
            },
            "outputs": [],
            "execution_count": null
        }
    ]
}