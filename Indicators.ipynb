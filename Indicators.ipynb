{
    "cells": [
        {
            "attachments": {},
            "cell_type": "markdown",
            "metadata": {
                "azdata_cell_guid": "3eddba0b-3a2a-49c5-be9e-e177546578ac"
            },
            "source": [
                "# Indicadores"
            ]
        },
        {
            "attachments": {},
            "cell_type": "markdown",
            "metadata": {
                "azdata_cell_guid": "0810ad56-e424-469b-993d-8a6cc1082ca2"
            },
            "source": [
                "---\n",
                "## Ambiental\n",
                "\n",
                "| Id  | Indicadores             | Aspectos dos indicadores |  Unidade de medida   |\n",
                "| :-: | ----------------------- | :----------------------: | :------------------: |\n",
                "|  1  | Eficiência Energética   |        Energético        |   % (porcentagem)    |\n",
                "|  2  | Consumo de Energia      |        Energético        | kWh (quilowatt-hora) |\n",
                "|  3  | Fluído de Corte         | Materiais e Substâncias  |      L (litros)      |\n",
                "|  4  | Volume da Peça Bruta    | Materiais e Substâncias  | m³ (metros cúbicos)  |\n",
                "|  5  | Água para limpeza       | Materiais e Substâncias  |      L (litros)      |\n",
                "|  6  | Vida Útil da Ferramenta |       Equipamentos       |      h (horas)       |"
            ]
        },
        {
            "attachments": {},
            "cell_type": "markdown",
            "metadata": {
                "azdata_cell_guid": "e83264c5-3a8b-4c32-9479-e8160c010a03"
            },
            "source": [
                "---\n",
                "## Social\n",
                "\n",
                "| Id  | Indicadores                          | Aspectos dos indicadores |             Unidade de medida             |\n",
                "| :-: | ------------------------------------ | :----------------------: | :---------------------------------------: |\n",
                "|  7  | Ruído                                |          Saúde           |               dB (decibéis)               |\n",
                "|  8  | Número de acidentes                  |        Segurança         | N° de acidentes por h (horas) de trabalho |\n",
                "|  9  | Número médio de horas de treinamento |       Treinamento        |                 h (horas)                 |"
            ]
        },
        {
            "cell_type": "markdown",
            "metadata": {
                "azdata_cell_guid": "5b182f1f-e769-41d5-98ea-9dc1cca4fc97"
            },
            "source": [
                "---\n",
                "## Econômico\n",
                "\n",
                "| Id  | Indicadores              | Aspectos dos indicadores |   Unidade de medida    |\n",
                "| :-: | ------------------------ | :----------------------: | :--------------------: |\n",
                "| 10  | Custo da Mão de obra     |          Custos          | R$/h (reais por hora)  |\n",
                "| 11  | Custo da Máquina         |          Custos          | R$/h (reais por hora)  |\n",
                "| 12  | Custo da Ferramenta      |          Custos          | R$/h (reais por hora)  |\n",
                "| 13  | Tempo de Fabricação      |          Custos          |     min (minutos)      |\n",
                "| 14  | Custo do Fluido de Corte |          Custos          | R$/L (reais por litro) |"
            ]
        }
    ],
    "metadata": {
        "kernelspec": {
            "display_name": "SQL",
            "language": "sql",
            "name": "SQL"
        },
        "language_info": {
            "name": "sql",
            "version": ""
        }
    },
    "nbformat": 4,
    "nbformat_minor": 2
}
